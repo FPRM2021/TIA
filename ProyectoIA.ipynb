{
  "nbformat": 4,
  "nbformat_minor": 0,
  "metadata": {
    "colab": {
      "name": "ProyectoIA.ipynb",
      "provenance": [],
      "collapsed_sections": []
    },
    "kernelspec": {
      "display_name": "Python 3",
      "name": "python3"
    },
    "language_info": {
      "name": "python"
    }
  },
  "cells": [
    {
      "cell_type": "markdown",
      "metadata": {
        "id": "XAq1T7G8HjrD"
      },
      "source": [
        "\n",
        "\n",
        "**Importaciones de Bibliotecas**\n"
      ]
    },
    {
      "cell_type": "code",
      "metadata": {
        "id": "XuOHZJYkxxD6"
      },
      "source": [
        "import pandas as pd\n",
        "import matplotlib as mt\n",
        "import matplotlib.pyplot as plt\n",
        "import numpy as np\n",
        "import sklearn as skl\n",
        "from datetime import datetime\n",
        "\n"
      ],
      "execution_count": 1015,
      "outputs": []
    },
    {
      "cell_type": "markdown",
      "metadata": {
        "id": "Gu_JvXa4H5PR"
      },
      "source": [
        "**Conseguir los Datos**"
      ]
    },
    {
      "cell_type": "code",
      "metadata": {
        "colab": {
          "base_uri": "https://localhost:8080/",
          "height": 307
        },
        "id": "-BQcJQpaIKUj",
        "outputId": "85e4bdb8-2f9f-4933-ca5c-cf096ab164e9"
      },
      "source": [
        "#Lectura del csv\n",
        "url = \"https://raw.githubusercontent.com/jmcastagnetto/covid-19-peru-data/master/datos/covid-19-peru-data.csv\"\n",
        "data=pd.read_csv(url)\n",
        "data.head()\n"
      ],
      "execution_count": 1016,
      "outputs": [
        {
          "output_type": "execute_result",
          "data": {
            "text/html": [
              "<div>\n",
              "<style scoped>\n",
              "    .dataframe tbody tr th:only-of-type {\n",
              "        vertical-align: middle;\n",
              "    }\n",
              "\n",
              "    .dataframe tbody tr th {\n",
              "        vertical-align: top;\n",
              "    }\n",
              "\n",
              "    .dataframe thead th {\n",
              "        text-align: right;\n",
              "    }\n",
              "</style>\n",
              "<table border=\"1\" class=\"dataframe\">\n",
              "  <thead>\n",
              "    <tr style=\"text-align: right;\">\n",
              "      <th></th>\n",
              "      <th>country</th>\n",
              "      <th>iso3c</th>\n",
              "      <th>region</th>\n",
              "      <th>date</th>\n",
              "      <th>confirmed</th>\n",
              "      <th>deaths</th>\n",
              "      <th>recovered</th>\n",
              "      <th>total_pcr</th>\n",
              "      <th>total_serological</th>\n",
              "      <th>total_ag</th>\n",
              "      <th>total_tests</th>\n",
              "      <th>negative_tests</th>\n",
              "      <th>pcr_test_positive</th>\n",
              "      <th>serological_test_positive</th>\n",
              "      <th>ag_test_positive</th>\n",
              "      <th>pcr_serological_test_positive</th>\n",
              "    </tr>\n",
              "  </thead>\n",
              "  <tbody>\n",
              "    <tr>\n",
              "      <th>0</th>\n",
              "      <td>Peru</td>\n",
              "      <td>PER</td>\n",
              "      <td>NaN</td>\n",
              "      <td>2020-03-06</td>\n",
              "      <td>1.0</td>\n",
              "      <td>NaN</td>\n",
              "      <td>NaN</td>\n",
              "      <td>NaN</td>\n",
              "      <td>NaN</td>\n",
              "      <td>NaN</td>\n",
              "      <td>NaN</td>\n",
              "      <td>154.0</td>\n",
              "      <td>NaN</td>\n",
              "      <td>NaN</td>\n",
              "      <td>NaN</td>\n",
              "      <td>NaN</td>\n",
              "    </tr>\n",
              "    <tr>\n",
              "      <th>1</th>\n",
              "      <td>Peru</td>\n",
              "      <td>PER</td>\n",
              "      <td>NaN</td>\n",
              "      <td>2020-03-07</td>\n",
              "      <td>6.0</td>\n",
              "      <td>NaN</td>\n",
              "      <td>NaN</td>\n",
              "      <td>NaN</td>\n",
              "      <td>NaN</td>\n",
              "      <td>NaN</td>\n",
              "      <td>NaN</td>\n",
              "      <td>213.0</td>\n",
              "      <td>NaN</td>\n",
              "      <td>NaN</td>\n",
              "      <td>NaN</td>\n",
              "      <td>NaN</td>\n",
              "    </tr>\n",
              "    <tr>\n",
              "      <th>2</th>\n",
              "      <td>Peru</td>\n",
              "      <td>PER</td>\n",
              "      <td>NaN</td>\n",
              "      <td>2020-03-09</td>\n",
              "      <td>9.0</td>\n",
              "      <td>NaN</td>\n",
              "      <td>NaN</td>\n",
              "      <td>NaN</td>\n",
              "      <td>NaN</td>\n",
              "      <td>NaN</td>\n",
              "      <td>NaN</td>\n",
              "      <td>309.0</td>\n",
              "      <td>NaN</td>\n",
              "      <td>NaN</td>\n",
              "      <td>NaN</td>\n",
              "      <td>NaN</td>\n",
              "    </tr>\n",
              "    <tr>\n",
              "      <th>3</th>\n",
              "      <td>Peru</td>\n",
              "      <td>PER</td>\n",
              "      <td>NaN</td>\n",
              "      <td>2020-03-10</td>\n",
              "      <td>11.0</td>\n",
              "      <td>NaN</td>\n",
              "      <td>NaN</td>\n",
              "      <td>NaN</td>\n",
              "      <td>NaN</td>\n",
              "      <td>NaN</td>\n",
              "      <td>NaN</td>\n",
              "      <td>335.0</td>\n",
              "      <td>NaN</td>\n",
              "      <td>NaN</td>\n",
              "      <td>NaN</td>\n",
              "      <td>NaN</td>\n",
              "    </tr>\n",
              "    <tr>\n",
              "      <th>4</th>\n",
              "      <td>Peru</td>\n",
              "      <td>PER</td>\n",
              "      <td>NaN</td>\n",
              "      <td>2020-03-11</td>\n",
              "      <td>17.0</td>\n",
              "      <td>NaN</td>\n",
              "      <td>NaN</td>\n",
              "      <td>NaN</td>\n",
              "      <td>NaN</td>\n",
              "      <td>NaN</td>\n",
              "      <td>NaN</td>\n",
              "      <td>697.0</td>\n",
              "      <td>NaN</td>\n",
              "      <td>NaN</td>\n",
              "      <td>NaN</td>\n",
              "      <td>NaN</td>\n",
              "    </tr>\n",
              "  </tbody>\n",
              "</table>\n",
              "</div>"
            ],
            "text/plain": [
              "  country iso3c  ... ag_test_positive pcr_serological_test_positive\n",
              "0    Peru   PER  ...              NaN                           NaN\n",
              "1    Peru   PER  ...              NaN                           NaN\n",
              "2    Peru   PER  ...              NaN                           NaN\n",
              "3    Peru   PER  ...              NaN                           NaN\n",
              "4    Peru   PER  ...              NaN                           NaN\n",
              "\n",
              "[5 rows x 16 columns]"
            ]
          },
          "metadata": {},
          "execution_count": 1016
        }
      ]
    },
    {
      "cell_type": "markdown",
      "metadata": {
        "id": "5Tosw0pPJI0R"
      },
      "source": [
        "**Histogramas de los Datos**"
      ]
    },
    {
      "cell_type": "code",
      "metadata": {
        "colab": {
          "base_uri": "https://localhost:8080/",
          "height": 892
        },
        "id": "145OyiImJN8B",
        "outputId": "5c110aeb-0153-452d-870b-5ef97e3bef3d"
      },
      "source": [
        "data.hist(bins=50,figsize=(20,15))\n",
        "plt.show()"
      ],
      "execution_count": 1017,
      "outputs": [
        {
          "output_type": "display_data",
          "data": {
            "image/png": "[encoded data removed]",
            "text/plain": [
              "<Figure size 1440x1080 with 12 Axes>"
            ]
          },
          "metadata": {
            "needs_background": "light"
          }
        }
      ]
    },
    {
      "cell_type": "markdown",
      "metadata": {
        "id": "o11Le0e1KOp2"
      },
      "source": [
        "**Preparar los Datos para Procesar**"
      ]
    },
    {
      "cell_type": "code",
      "metadata": {
        "id": "oehSkzq-oYCy"
      },
      "source": [
        "#Cambiar los datos NaN por 0 donde sea conveniente\n",
        "def elimNAN(df):\n",
        "  for column in df:\n",
        "    df[column] = df[column].fillna(0)\n",
        "\n",
        "elimNAN(data)"
      ],
      "execution_count": 1018,
      "outputs": []
    },
    {
      "cell_type": "code",
      "metadata": {
        "id": "WFP_QSIB09cM",
        "colab": {
          "base_uri": "https://localhost:8080/",
          "height": 605
        },
        "outputId": "c78a5080-1c22-45df-f0b1-5bd40afa7c7a"
      },
      "source": [
        "#selección de datos\n",
        "#Para Peru\n",
        "peru=data.loc[data['region'] == 0]\n",
        "peru"
      ],
      "execution_count": 1019,
      "outputs": [
        {
          "output_type": "execute_result",
          "data": {
            "text/html": [
              "<div>\n",
              "<style scoped>\n",
              "    .dataframe tbody tr th:only-of-type {\n",
              "        vertical-align: middle;\n",
              "    }\n",
              "\n",
              "    .dataframe tbody tr th {\n",
              "        vertical-align: top;\n",
              "    }\n",
              "\n",
              "    .dataframe thead th {\n",
              "        text-align: right;\n",
              "    }\n",
              "</style>\n",
              "<table border=\"1\" class=\"dataframe\">\n",
              "  <thead>\n",
              "    <tr style=\"text-align: right;\">\n",
              "      <th></th>\n",
              "      <th>country</th>\n",
              "      <th>iso3c</th>\n",
              "      <th>region</th>\n",
              "      <th>date</th>\n",
              "      <th>confirmed</th>\n",
              "      <th>deaths</th>\n",
              "      <th>recovered</th>\n",
              "      <th>total_pcr</th>\n",
              "      <th>total_serological</th>\n",
              "      <th>total_ag</th>\n",
              "      <th>total_tests</th>\n",
              "      <th>negative_tests</th>\n",
              "      <th>pcr_test_positive</th>\n",
              "      <th>serological_test_positive</th>\n",
              "      <th>ag_test_positive</th>\n",
              "      <th>pcr_serological_test_positive</th>\n",
              "    </tr>\n",
              "  </thead>\n",
              "  <tbody>\n",
              "    <tr>\n",
              "      <th>0</th>\n",
              "      <td>Peru</td>\n",
              "      <td>PER</td>\n",
              "      <td>0</td>\n",
              "      <td>2020-03-06</td>\n",
              "      <td>1.0</td>\n",
              "      <td>0.0</td>\n",
              "      <td>0.0</td>\n",
              "      <td>0.0</td>\n",
              "      <td>0.0</td>\n",
              "      <td>0.0</td>\n",
              "      <td>0.0</td>\n",
              "      <td>154.0</td>\n",
              "      <td>0.0</td>\n",
              "      <td>0.0</td>\n",
              "      <td>0.0</td>\n",
              "      <td>0.0</td>\n",
              "    </tr>\n",
              "    <tr>\n",
              "      <th>1</th>\n",
              "      <td>Peru</td>\n",
              "      <td>PER</td>\n",
              "      <td>0</td>\n",
              "      <td>2020-03-07</td>\n",
              "      <td>6.0</td>\n",
              "      <td>0.0</td>\n",
              "      <td>0.0</td>\n",
              "      <td>0.0</td>\n",
              "      <td>0.0</td>\n",
              "      <td>0.0</td>\n",
              "      <td>0.0</td>\n",
              "      <td>213.0</td>\n",
              "      <td>0.0</td>\n",
              "      <td>0.0</td>\n",
              "      <td>0.0</td>\n",
              "      <td>0.0</td>\n",
              "    </tr>\n",
              "    <tr>\n",
              "      <th>2</th>\n",
              "      <td>Peru</td>\n",
              "      <td>PER</td>\n",
              "      <td>0</td>\n",
              "      <td>2020-03-09</td>\n",
              "      <td>9.0</td>\n",
              "      <td>0.0</td>\n",
              "      <td>0.0</td>\n",
              "      <td>0.0</td>\n",
              "      <td>0.0</td>\n",
              "      <td>0.0</td>\n",
              "      <td>0.0</td>\n",
              "      <td>309.0</td>\n",
              "      <td>0.0</td>\n",
              "      <td>0.0</td>\n",
              "      <td>0.0</td>\n",
              "      <td>0.0</td>\n",
              "    </tr>\n",
              "    <tr>\n",
              "      <th>3</th>\n",
              "      <td>Peru</td>\n",
              "      <td>PER</td>\n",
              "      <td>0</td>\n",
              "      <td>2020-03-10</td>\n",
              "      <td>11.0</td>\n",
              "      <td>0.0</td>\n",
              "      <td>0.0</td>\n",
              "      <td>0.0</td>\n",
              "      <td>0.0</td>\n",
              "      <td>0.0</td>\n",
              "      <td>0.0</td>\n",
              "      <td>335.0</td>\n",
              "      <td>0.0</td>\n",
              "      <td>0.0</td>\n",
              "      <td>0.0</td>\n",
              "      <td>0.0</td>\n",
              "    </tr>\n",
              "    <tr>\n",
              "      <th>4</th>\n",
              "      <td>Peru</td>\n",
              "      <td>PER</td>\n",
              "      <td>0</td>\n",
              "      <td>2020-03-11</td>\n",
              "      <td>17.0</td>\n",
              "      <td>0.0</td>\n",
              "      <td>0.0</td>\n",
              "      <td>0.0</td>\n",
              "      <td>0.0</td>\n",
              "      <td>0.0</td>\n",
              "      <td>0.0</td>\n",
              "      <td>697.0</td>\n",
              "      <td>0.0</td>\n",
              "      <td>0.0</td>\n",
              "      <td>0.0</td>\n",
              "      <td>0.0</td>\n",
              "    </tr>\n",
              "    <tr>\n",
              "      <th>...</th>\n",
              "      <td>...</td>\n",
              "      <td>...</td>\n",
              "      <td>...</td>\n",
              "      <td>...</td>\n",
              "      <td>...</td>\n",
              "      <td>...</td>\n",
              "      <td>...</td>\n",
              "      <td>...</td>\n",
              "      <td>...</td>\n",
              "      <td>...</td>\n",
              "      <td>...</td>\n",
              "      <td>...</td>\n",
              "      <td>...</td>\n",
              "      <td>...</td>\n",
              "      <td>...</td>\n",
              "      <td>...</td>\n",
              "    </tr>\n",
              "    <tr>\n",
              "      <th>15304</th>\n",
              "      <td>Peru</td>\n",
              "      <td>PER</td>\n",
              "      <td>0</td>\n",
              "      <td>2021-10-13</td>\n",
              "      <td>2186246.0</td>\n",
              "      <td>199746.0</td>\n",
              "      <td>2163578.0</td>\n",
              "      <td>5446721.0</td>\n",
              "      <td>5226747.0</td>\n",
              "      <td>7693849.0</td>\n",
              "      <td>18367317.0</td>\n",
              "      <td>16181071.0</td>\n",
              "      <td>649104.0</td>\n",
              "      <td>946098.0</td>\n",
              "      <td>591044.0</td>\n",
              "      <td>0.0</td>\n",
              "    </tr>\n",
              "    <tr>\n",
              "      <th>15331</th>\n",
              "      <td>Peru</td>\n",
              "      <td>PER</td>\n",
              "      <td>0</td>\n",
              "      <td>2021-10-14</td>\n",
              "      <td>2187368.0</td>\n",
              "      <td>199746.0</td>\n",
              "      <td>2164746.0</td>\n",
              "      <td>5459835.0</td>\n",
              "      <td>5227748.0</td>\n",
              "      <td>7724494.0</td>\n",
              "      <td>18412077.0</td>\n",
              "      <td>16224709.0</td>\n",
              "      <td>649483.0</td>\n",
              "      <td>946145.0</td>\n",
              "      <td>591740.0</td>\n",
              "      <td>0.0</td>\n",
              "    </tr>\n",
              "    <tr>\n",
              "      <th>15358</th>\n",
              "      <td>Peru</td>\n",
              "      <td>PER</td>\n",
              "      <td>0</td>\n",
              "      <td>2021-10-15</td>\n",
              "      <td>2188351.0</td>\n",
              "      <td>199792.0</td>\n",
              "      <td>2165822.0</td>\n",
              "      <td>5475857.0</td>\n",
              "      <td>5229147.0</td>\n",
              "      <td>7753011.0</td>\n",
              "      <td>18458015.0</td>\n",
              "      <td>16269664.0</td>\n",
              "      <td>649841.0</td>\n",
              "      <td>946199.0</td>\n",
              "      <td>592311.0</td>\n",
              "      <td>0.0</td>\n",
              "    </tr>\n",
              "    <tr>\n",
              "      <th>15385</th>\n",
              "      <td>Peru</td>\n",
              "      <td>PER</td>\n",
              "      <td>0</td>\n",
              "      <td>2021-10-16</td>\n",
              "      <td>2189165.0</td>\n",
              "      <td>199816.0</td>\n",
              "      <td>2166743.0</td>\n",
              "      <td>5489238.0</td>\n",
              "      <td>5230561.0</td>\n",
              "      <td>7781380.0</td>\n",
              "      <td>18501179.0</td>\n",
              "      <td>16312014.0</td>\n",
              "      <td>650060.0</td>\n",
              "      <td>946258.0</td>\n",
              "      <td>592847.0</td>\n",
              "      <td>0.0</td>\n",
              "    </tr>\n",
              "    <tr>\n",
              "      <th>15412</th>\n",
              "      <td>Peru</td>\n",
              "      <td>PER</td>\n",
              "      <td>0</td>\n",
              "      <td>2021-10-17</td>\n",
              "      <td>2190009.0</td>\n",
              "      <td>199843.0</td>\n",
              "      <td>2167606.0</td>\n",
              "      <td>5501211.0</td>\n",
              "      <td>5231685.0</td>\n",
              "      <td>7805654.0</td>\n",
              "      <td>18538550.0</td>\n",
              "      <td>16348541.0</td>\n",
              "      <td>650350.0</td>\n",
              "      <td>946337.0</td>\n",
              "      <td>593322.0</td>\n",
              "      <td>0.0</td>\n",
              "    </tr>\n",
              "  </tbody>\n",
              "</table>\n",
              "<p>590 rows × 16 columns</p>\n",
              "</div>"
            ],
            "text/plain": [
              "      country iso3c  ... ag_test_positive pcr_serological_test_positive\n",
              "0        Peru   PER  ...              0.0                           0.0\n",
              "1        Peru   PER  ...              0.0                           0.0\n",
              "2        Peru   PER  ...              0.0                           0.0\n",
              "3        Peru   PER  ...              0.0                           0.0\n",
              "4        Peru   PER  ...              0.0                           0.0\n",
              "...       ...   ...  ...              ...                           ...\n",
              "15304    Peru   PER  ...         591044.0                           0.0\n",
              "15331    Peru   PER  ...         591740.0                           0.0\n",
              "15358    Peru   PER  ...         592311.0                           0.0\n",
              "15385    Peru   PER  ...         592847.0                           0.0\n",
              "15412    Peru   PER  ...         593322.0                           0.0\n",
              "\n",
              "[590 rows x 16 columns]"
            ]
          },
          "metadata": {},
          "execution_count": 1019
        }
      ]
    },
    {
      "cell_type": "code",
      "metadata": {
        "colab": {
          "base_uri": "https://localhost:8080/",
          "height": 605
        },
        "id": "vWkWGuw0foAx",
        "outputId": "3a040313-1615-4b64-9bb0-8d3ffe724d1f"
      },
      "source": [
        "#Para Arequipa\n",
        "arequipa=data.loc[data['region'] == 'Arequipa']\n",
        "arequipa"
      ],
      "execution_count": 1020,
      "outputs": [
        {
          "output_type": "execute_result",
          "data": {
            "text/html": [
              "<div>\n",
              "<style scoped>\n",
              "    .dataframe tbody tr th:only-of-type {\n",
              "        vertical-align: middle;\n",
              "    }\n",
              "\n",
              "    .dataframe tbody tr th {\n",
              "        vertical-align: top;\n",
              "    }\n",
              "\n",
              "    .dataframe thead th {\n",
              "        text-align: right;\n",
              "    }\n",
              "</style>\n",
              "<table border=\"1\" class=\"dataframe\">\n",
              "  <thead>\n",
              "    <tr style=\"text-align: right;\">\n",
              "      <th></th>\n",
              "      <th>country</th>\n",
              "      <th>iso3c</th>\n",
              "      <th>region</th>\n",
              "      <th>date</th>\n",
              "      <th>confirmed</th>\n",
              "      <th>deaths</th>\n",
              "      <th>recovered</th>\n",
              "      <th>total_pcr</th>\n",
              "      <th>total_serological</th>\n",
              "      <th>total_ag</th>\n",
              "      <th>total_tests</th>\n",
              "      <th>negative_tests</th>\n",
              "      <th>pcr_test_positive</th>\n",
              "      <th>serological_test_positive</th>\n",
              "      <th>ag_test_positive</th>\n",
              "      <th>pcr_serological_test_positive</th>\n",
              "    </tr>\n",
              "  </thead>\n",
              "  <tbody>\n",
              "    <tr>\n",
              "      <th>6</th>\n",
              "      <td>Peru</td>\n",
              "      <td>PER</td>\n",
              "      <td>Arequipa</td>\n",
              "      <td>2020-03-13</td>\n",
              "      <td>2.0</td>\n",
              "      <td>0.0</td>\n",
              "      <td>0.0</td>\n",
              "      <td>0.0</td>\n",
              "      <td>0.0</td>\n",
              "      <td>0.0</td>\n",
              "      <td>0.0</td>\n",
              "      <td>0.0</td>\n",
              "      <td>0.0</td>\n",
              "      <td>0.0</td>\n",
              "      <td>0.0</td>\n",
              "      <td>0.0</td>\n",
              "    </tr>\n",
              "    <tr>\n",
              "      <th>12</th>\n",
              "      <td>Peru</td>\n",
              "      <td>PER</td>\n",
              "      <td>Arequipa</td>\n",
              "      <td>2020-03-14</td>\n",
              "      <td>2.0</td>\n",
              "      <td>0.0</td>\n",
              "      <td>0.0</td>\n",
              "      <td>0.0</td>\n",
              "      <td>0.0</td>\n",
              "      <td>0.0</td>\n",
              "      <td>0.0</td>\n",
              "      <td>0.0</td>\n",
              "      <td>0.0</td>\n",
              "      <td>0.0</td>\n",
              "      <td>0.0</td>\n",
              "      <td>0.0</td>\n",
              "    </tr>\n",
              "    <tr>\n",
              "      <th>19</th>\n",
              "      <td>Peru</td>\n",
              "      <td>PER</td>\n",
              "      <td>Arequipa</td>\n",
              "      <td>2020-03-15</td>\n",
              "      <td>2.0</td>\n",
              "      <td>0.0</td>\n",
              "      <td>0.0</td>\n",
              "      <td>0.0</td>\n",
              "      <td>0.0</td>\n",
              "      <td>0.0</td>\n",
              "      <td>0.0</td>\n",
              "      <td>0.0</td>\n",
              "      <td>0.0</td>\n",
              "      <td>0.0</td>\n",
              "      <td>0.0</td>\n",
              "      <td>0.0</td>\n",
              "    </tr>\n",
              "    <tr>\n",
              "      <th>30</th>\n",
              "      <td>Peru</td>\n",
              "      <td>PER</td>\n",
              "      <td>Arequipa</td>\n",
              "      <td>2020-03-16</td>\n",
              "      <td>2.0</td>\n",
              "      <td>0.0</td>\n",
              "      <td>0.0</td>\n",
              "      <td>0.0</td>\n",
              "      <td>0.0</td>\n",
              "      <td>0.0</td>\n",
              "      <td>0.0</td>\n",
              "      <td>0.0</td>\n",
              "      <td>0.0</td>\n",
              "      <td>0.0</td>\n",
              "      <td>0.0</td>\n",
              "      <td>0.0</td>\n",
              "    </tr>\n",
              "    <tr>\n",
              "      <th>41</th>\n",
              "      <td>Peru</td>\n",
              "      <td>PER</td>\n",
              "      <td>Arequipa</td>\n",
              "      <td>2020-03-17</td>\n",
              "      <td>2.0</td>\n",
              "      <td>0.0</td>\n",
              "      <td>0.0</td>\n",
              "      <td>0.0</td>\n",
              "      <td>0.0</td>\n",
              "      <td>0.0</td>\n",
              "      <td>0.0</td>\n",
              "      <td>0.0</td>\n",
              "      <td>0.0</td>\n",
              "      <td>0.0</td>\n",
              "      <td>0.0</td>\n",
              "      <td>0.0</td>\n",
              "    </tr>\n",
              "    <tr>\n",
              "      <th>...</th>\n",
              "      <td>...</td>\n",
              "      <td>...</td>\n",
              "      <td>...</td>\n",
              "      <td>...</td>\n",
              "      <td>...</td>\n",
              "      <td>...</td>\n",
              "      <td>...</td>\n",
              "      <td>...</td>\n",
              "      <td>...</td>\n",
              "      <td>...</td>\n",
              "      <td>...</td>\n",
              "      <td>...</td>\n",
              "      <td>...</td>\n",
              "      <td>...</td>\n",
              "      <td>...</td>\n",
              "      <td>...</td>\n",
              "    </tr>\n",
              "    <tr>\n",
              "      <th>15281</th>\n",
              "      <td>Peru</td>\n",
              "      <td>PER</td>\n",
              "      <td>Arequipa</td>\n",
              "      <td>2021-10-13</td>\n",
              "      <td>114992.0</td>\n",
              "      <td>9667.0</td>\n",
              "      <td>0.0</td>\n",
              "      <td>390189.0</td>\n",
              "      <td>307912.0</td>\n",
              "      <td>576903.0</td>\n",
              "      <td>1275004.0</td>\n",
              "      <td>1160012.0</td>\n",
              "      <td>26466.0</td>\n",
              "      <td>49519.0</td>\n",
              "      <td>39007.0</td>\n",
              "      <td>0.0</td>\n",
              "    </tr>\n",
              "    <tr>\n",
              "      <th>15308</th>\n",
              "      <td>Peru</td>\n",
              "      <td>PER</td>\n",
              "      <td>Arequipa</td>\n",
              "      <td>2021-10-14</td>\n",
              "      <td>115036.0</td>\n",
              "      <td>9667.0</td>\n",
              "      <td>0.0</td>\n",
              "      <td>391734.0</td>\n",
              "      <td>307941.0</td>\n",
              "      <td>579520.0</td>\n",
              "      <td>1279195.0</td>\n",
              "      <td>1164159.0</td>\n",
              "      <td>26488.0</td>\n",
              "      <td>49522.0</td>\n",
              "      <td>39026.0</td>\n",
              "      <td>0.0</td>\n",
              "    </tr>\n",
              "    <tr>\n",
              "      <th>15335</th>\n",
              "      <td>Peru</td>\n",
              "      <td>PER</td>\n",
              "      <td>Arequipa</td>\n",
              "      <td>2021-10-15</td>\n",
              "      <td>115074.0</td>\n",
              "      <td>9666.0</td>\n",
              "      <td>0.0</td>\n",
              "      <td>393895.0</td>\n",
              "      <td>307980.0</td>\n",
              "      <td>581767.0</td>\n",
              "      <td>1283642.0</td>\n",
              "      <td>1168568.0</td>\n",
              "      <td>26500.0</td>\n",
              "      <td>49528.0</td>\n",
              "      <td>39046.0</td>\n",
              "      <td>0.0</td>\n",
              "    </tr>\n",
              "    <tr>\n",
              "      <th>15362</th>\n",
              "      <td>Peru</td>\n",
              "      <td>PER</td>\n",
              "      <td>Arequipa</td>\n",
              "      <td>2021-10-16</td>\n",
              "      <td>115100.0</td>\n",
              "      <td>9669.0</td>\n",
              "      <td>0.0</td>\n",
              "      <td>394611.0</td>\n",
              "      <td>308013.0</td>\n",
              "      <td>584284.0</td>\n",
              "      <td>1286908.0</td>\n",
              "      <td>1171808.0</td>\n",
              "      <td>26513.0</td>\n",
              "      <td>49529.0</td>\n",
              "      <td>39058.0</td>\n",
              "      <td>0.0</td>\n",
              "    </tr>\n",
              "    <tr>\n",
              "      <th>15389</th>\n",
              "      <td>Peru</td>\n",
              "      <td>PER</td>\n",
              "      <td>Arequipa</td>\n",
              "      <td>2021-10-17</td>\n",
              "      <td>115113.0</td>\n",
              "      <td>9667.0</td>\n",
              "      <td>0.0</td>\n",
              "      <td>395473.0</td>\n",
              "      <td>308033.0</td>\n",
              "      <td>586148.0</td>\n",
              "      <td>1289654.0</td>\n",
              "      <td>1174541.0</td>\n",
              "      <td>26519.0</td>\n",
              "      <td>49531.0</td>\n",
              "      <td>39063.0</td>\n",
              "      <td>0.0</td>\n",
              "    </tr>\n",
              "  </tbody>\n",
              "</table>\n",
              "<p>584 rows × 16 columns</p>\n",
              "</div>"
            ],
            "text/plain": [
              "      country iso3c  ... ag_test_positive pcr_serological_test_positive\n",
              "6        Peru   PER  ...              0.0                           0.0\n",
              "12       Peru   PER  ...              0.0                           0.0\n",
              "19       Peru   PER  ...              0.0                           0.0\n",
              "30       Peru   PER  ...              0.0                           0.0\n",
              "41       Peru   PER  ...              0.0                           0.0\n",
              "...       ...   ...  ...              ...                           ...\n",
              "15281    Peru   PER  ...          39007.0                           0.0\n",
              "15308    Peru   PER  ...          39026.0                           0.0\n",
              "15335    Peru   PER  ...          39046.0                           0.0\n",
              "15362    Peru   PER  ...          39058.0                           0.0\n",
              "15389    Peru   PER  ...          39063.0                           0.0\n",
              "\n",
              "[584 rows x 16 columns]"
            ]
          },
          "metadata": {},
          "execution_count": 1020
        }
      ]
    },
    {
      "cell_type": "code",
      "metadata": {
        "id": "h_yPvJYOzksR"
      },
      "source": [
        "# #Cambiar los datos NaN por 0 donde sea conveniente\n",
        "\n",
        "#Se toman en cuenta para los Xs, las fechas, recuperados y el total de pruebas realizadas para un entrenamiento\n",
        "#Y se toman los resultados de las pruebas para los Xs de otro entrenamiento\n",
        "\n",
        "# #Separación de datos de entrenamiento Peru\n",
        "per_training_Xdf=peru.loc[:,['date']].copy()\n",
        "\n",
        "per_training_Xdf1=peru.loc[:,['date','total_tests','total_pcr','total_serological','total_ag',\t'total_tests', 'negative_tests',\n",
        "'pcr_test_positive','serological_test_positive', 'ag_test_positive']].copy()\n",
        "\n",
        "perc_training_Ydf=peru.loc[:,['confirmed']].copy()\n",
        "perd_training_Ydf=peru.loc[:,['deaths']].copy()\n",
        "\n",
        "perc_training_Y=peru['confirmed'].values\n",
        "perd_training_Y=peru['deaths'].values\n",
        "\n",
        "#Separación de datos de entrenamiento Arequipa\n",
        "aqp_training_Xdf=arequipa.loc[:,['date']].copy()\n",
        "\n",
        "aqp_training_Xdf1=arequipa.loc[:,['date','total_tests','total_pcr','total_serological','total_ag',\t'total_tests', 'negative_tests',\n",
        "'pcr_test_positive','serological_test_positive', 'ag_test_positive']].copy()\n",
        "\n",
        "aqpc_training_Ydf=arequipa.loc[:,['confirmed']].copy()\n",
        "aqpd_training_Ydf=arequipa.loc[:,['deaths']].copy()\n",
        "\n",
        "aqpc_training_Y=arequipa['confirmed'].values\n",
        "aqpd_training_Y=arequipa['deaths'].values"
      ],
      "execution_count": 1021,
      "outputs": []
    },
    {
      "cell_type": "code",
      "metadata": {
        "id": "hvrVckpp0LK7"
      },
      "source": [
        "#Seleccion de datos numericos y cambiar datos a int\n",
        "\n",
        "#Para Peru\n",
        "per_training_Xdf['date'] = pd.to_datetime(per_training_Xdf['date']).astype('int')\n",
        "\n",
        "per_training_Xdf1['date'] = pd.to_datetime(per_training_Xdf1['date']).astype('int')\n",
        "per_training_Xdf1= per_training_Xdf1.astype({\"total_tests\":'int',\"total_pcr\":'int',\n",
        "               \"total_serological\":'int',\t\"total_ag\":'int',\t\"total_tests\":'int', \"negative_tests\":'int',\n",
        "               \"pcr_test_positive\":'int',\t\"serological_test_positive\":'int', \"ag_test_positive\":'int'})\n",
        "\n",
        "#Para Arequipa\n",
        "aqp_training_Xdf['date'] = pd.to_datetime(aqp_training_Xdf['date']).astype('int')\n",
        "\n",
        "aqp_training_Xdf1['date'] = pd.to_datetime(aqp_training_Xdf1['date']).astype('int')\n",
        "aqp_training_Xdf1= aqp_training_Xdf1.astype({\"total_tests\":'int',\"total_pcr\":'int',\n",
        "               \"total_serological\":'int',\t\"total_ag\":'int',\t\"total_tests\":'int', \"negative_tests\":'int',\n",
        "               \"pcr_test_positive\":'int',\t\"serological_test_positive\":'int', \"ag_test_positive\":'int'})\n",
        "\n",
        "#Eliminacion de ruido\n",
        "def elim_ruido(X):\n",
        "    filas, columnas = X.shape\n",
        "    for i in range(1, filas):\n",
        "        for j in range(0, columnas):\n",
        "            if X[i][j]  == 0:\n",
        "                X[i][j] = X[i - 1][j]\n",
        "    return X\n",
        "\n",
        "def elim_ruido_series(X):\n",
        "    filas= X.shape[0]\n",
        "    for i in range (1, filas):\n",
        "            if X[i] == 0:\n",
        "                X[i]= X[i - 1]\n",
        "    return X\n",
        "\n",
        "#Normalización\n",
        "\n",
        "def normalizacion_X(X):\n",
        "  mu=np.mean(X,axis=0)\n",
        "  sigma=np.std(X,axis=0,ddof=1)\n",
        "  X_norm=(X-mu)/sigma\n",
        "  return X_norm,mu,sigma\n",
        "\n",
        "#Normalización, y limpieza de ruido de los datos de Perú\n",
        "\n",
        "per_training_Xdf,permu,persigma=normalizacion_X(per_training_Xdf)\n",
        "per_training_Xdf1,permu1,persigma1=normalizacion_X(per_training_Xdf1)\n",
        "\n",
        "per_training_X=per_training_Xdf.values\n",
        "per_training_X1=per_training_Xdf1.values\n",
        "\n",
        "per_training_X=elim_ruido(per_training_X)\n",
        "per_training_X1=elim_ruido(per_training_X1)\n",
        "\n",
        "perc_training_Y=elim_ruido_series(perc_training_Y)\n",
        "perd_training_Y=elim_ruido_series(perd_training_Y)\n",
        "\n",
        "#Normalización, y limpieza de ruido de los datos de Arequipa\n",
        "\n",
        "aqp_training_Xdf,aqpmu,aqpsigma=normalizacion_X(aqp_training_Xdf)\n",
        "aqp_training_Xdf1,aqpmu1,aqpsigma1=normalizacion_X(aqp_training_Xdf1)\n",
        "\n",
        "aqp_training_X=aqp_training_Xdf.values\n",
        "aqp_training_X1=aqp_training_Xdf1.values\n",
        "\n",
        "aqp_training_X=elim_ruido(aqp_training_X)\n",
        "aqp_training_X1=elim_ruido(aqp_training_X1)\n",
        "\n",
        "aqpc_training_Y=elim_ruido_series(aqpc_training_Y)\n",
        "aqpd_training_Y=elim_ruido_series(aqpd_training_Y)\n",
        "\n",
        "\n",
        "#Separación para entrenamiento y testing\n",
        "#La predicción debe ser realizada en un rango del 18 agosto al 11 de octubre 2021)\n",
        "\n",
        "perc_testing_Y=perc_training_Y[523:][:]\n",
        "perd_testing_Y=perd_training_Y[523:][:]\n",
        "\n",
        "perc_training_Y=perc_training_Y[:522][:]\n",
        "perd_training_Y=perd_training_Y[:522][:]\n",
        "\n",
        "per_testing_X=per_training_X[523:][:]\n",
        "per_training_X=per_training_X[:522][:]\n",
        "\n",
        "per_testing_X1=per_training_X1[523:][:]\n",
        "per_training_X1=per_training_X1[:522][:]\n",
        "\n",
        "\n",
        "aqpc_testing_Y=aqpc_training_Y[517:][:]\n",
        "aqpd_testing_Y=aqpd_training_Y[517:][:]\n",
        "\n",
        "aqpc_training_Y=aqpc_training_Y[:516][:]\n",
        "aqpd_training_Y=aqpd_training_Y[:516][:]\n",
        "\n",
        "aqp_testing_X=aqp_training_X[517:][:]\n",
        "aqp_training_X=aqp_training_X[:516][:]\n",
        "\n",
        "aqp_testing_X1=aqp_training_X1[517:][:]\n",
        "aqp_training_X1=aqp_training_X1[:516][:]\n",
        "\n",
        "#Valores que definen la cantidad de filas de entrenamiento y testing: 522 y 516\n",
        "\n",
        "\n",
        "perTrainingSize=len(perc_training_Y)\n",
        "\n",
        "aqpTrainingSize=len(aqpc_training_Y)\n",
        "\n",
        "perTestingSize=len(perc_testing_Y)\n",
        "\n",
        "aqpTestingSize=len(aqpc_testing_Y)\n",
        "\n",
        "#Función Extra\n",
        "\n",
        "def obtenerfechas(X,sigma,mu):\n",
        "  date=((X[:,0]*sigma[0])+mu[0])/1e9\n",
        "  date1=[]\n",
        "  for j in range(0,len(date)):\n",
        "    date1.append(datetime.utcfromtimestamp(date[j]).strftime('%Y-%m-%d'))\n",
        "    j=j+1\n",
        "  return date1\n"
      ],
      "execution_count": 1022,
      "outputs": []
    },
    {
      "cell_type": "code",
      "metadata": {
        "colab": {
          "base_uri": "https://localhost:8080/"
        },
        "id": "FI8sQMhTFQqu",
        "outputId": "5c9b671b-8bf0-4fc9-fabd-4e77b8548d69"
      },
      "source": [
        "print('permu=\\n', permu,'\\n')\n",
        "print('persigma=\\n', persigma,'\\n')\n",
        "print('per_training_Xdf=\\n', per_training_Xdf[:5],'\\n')\n",
        "\n",
        "print('aqpmu=\\n', aqpmu,'\\n')\n",
        "print('aqpsigma=\\n', aqpsigma,'\\n')\n",
        "print('aqp_training_Xdf=\\n', aqp_training_Xdf[:5],'\\n')"
      ],
      "execution_count": 1023,
      "outputs": [
        {
          "output_type": "stream",
          "name": "stdout",
          "text": [
            "permu=\n",
            " date    1.608984e+18\n",
            "dtype: float64 \n",
            "\n",
            "persigma=\n",
            " date    1.472848e+16\n",
            "dtype: float64 \n",
            "\n",
            "per_training_Xdf=\n",
            "        date\n",
            "0 -1.733438\n",
            "1 -1.727572\n",
            "2 -1.715840\n",
            "3 -1.709974\n",
            "4 -1.704108 \n",
            "\n",
            "aqpmu=\n",
            " date    1.609243e+18\n",
            "dtype: float64 \n",
            "\n",
            "aqpsigma=\n",
            " date    1.457832e+16\n",
            "dtype: float64 \n",
            "\n",
            "aqp_training_Xdf=\n",
            "         date\n",
            "6  -1.727606\n",
            "12 -1.721680\n",
            "19 -1.715753\n",
            "30 -1.709827\n",
            "41 -1.703900 \n",
            "\n"
          ]
        }
      ]
    },
    {
      "cell_type": "code",
      "metadata": {
        "colab": {
          "base_uri": "https://localhost:8080/"
        },
        "id": "yPe3m6PjUNg5",
        "outputId": "eb55d718-032f-4932-d660-64bfc02a69f2"
      },
      "source": [
        "print('permu1=\\n', permu1,'\\n')\n",
        "print('persigma1=\\n', persigma1,'\\n')\n",
        "print('per_training_Xdf1=\\n', per_training_Xdf1[:5],'\\n')\n",
        "\n",
        "print('aqpmu1=\\n', aqpmu1,'\\n')\n",
        "print('aqpsigma1=\\n', aqpsigma1,'\\n')\n",
        "print('aqp_training_Xdf1=\\n', aqp_training_Xdf1[:5],'\\n')"
      ],
      "execution_count": 1024,
      "outputs": [
        {
          "output_type": "stream",
          "name": "stdout",
          "text": [
            "permu1=\n",
            " date                         1.608984e+18\n",
            "total_tests                  7.231454e+06\n",
            "total_pcr                    6.684634e+05\n",
            "total_serological            6.858019e+05\n",
            "total_ag                     9.030240e+05\n",
            "total_tests                  7.231454e+06\n",
            "negative_tests               6.117438e+06\n",
            "pcr_test_positive            3.116458e+05\n",
            "serological_test_positive    6.226681e+05\n",
            "ag_test_positive             1.814960e+05\n",
            "dtype: float64 \n",
            "\n",
            "persigma1=\n",
            " date                         1.472848e+16\n",
            "total_tests                  5.745960e+06\n",
            "total_pcr                    1.716568e+06\n",
            "total_serological            1.758582e+06\n",
            "total_ag                     2.325430e+06\n",
            "total_tests                  5.745960e+06\n",
            "negative_tests               5.014385e+06\n",
            "pcr_test_positive            2.322659e+05\n",
            "serological_test_positive    3.397663e+05\n",
            "ag_test_positive             2.732710e+05\n",
            "dtype: float64 \n",
            "\n",
            "per_training_Xdf1=\n",
            "        date  total_tests  ...  serological_test_positive  ag_test_positive\n",
            "0 -1.733438    -1.258528  ...                  -1.832636         -0.664161\n",
            "1 -1.727572    -1.258528  ...                  -1.832636         -0.664161\n",
            "2 -1.715840    -1.258528  ...                  -1.832636         -0.664161\n",
            "3 -1.709974    -1.258528  ...                  -1.832636         -0.664161\n",
            "4 -1.704108    -1.258528  ...                  -1.832636         -0.664161\n",
            "\n",
            "[5 rows x 10 columns] \n",
            "\n",
            "aqpmu1=\n",
            " date                         1.609243e+18\n",
            "total_tests                  4.494482e+05\n",
            "total_pcr                    4.659474e+04\n",
            "total_serological            4.093078e+04\n",
            "total_ag                     6.723629e+04\n",
            "total_tests                  4.494482e+05\n",
            "negative_tests               3.965428e+05\n",
            "pcr_test_positive            1.078751e+04\n",
            "serological_test_positive    3.250881e+04\n",
            "ag_test_positive             9.623041e+03\n",
            "dtype: float64 \n",
            "\n",
            "aqpsigma1=\n",
            " date                         1.457832e+16\n",
            "total_tests                  3.847694e+05\n",
            "total_pcr                    1.191823e+05\n",
            "total_serological            1.043405e+05\n",
            "total_ag                     1.723444e+05\n",
            "total_tests                  3.847694e+05\n",
            "negative_tests               3.475654e+05\n",
            "pcr_test_positive            9.042017e+03\n",
            "serological_test_positive    1.858373e+04\n",
            "ag_test_positive             1.446783e+04\n",
            "dtype: float64 \n",
            "\n",
            "aqp_training_Xdf1=\n",
            "         date  total_tests  ...  serological_test_positive  ag_test_positive\n",
            "6  -1.727606    -1.168097  ...                  -1.749316         -0.665134\n",
            "12 -1.721680    -1.168097  ...                  -1.749316         -0.665134\n",
            "19 -1.715753    -1.168097  ...                  -1.749316         -0.665134\n",
            "30 -1.709827    -1.168097  ...                  -1.749316         -0.665134\n",
            "41 -1.703900    -1.168097  ...                  -1.749316         -0.665134\n",
            "\n",
            "[5 rows x 10 columns] \n",
            "\n"
          ]
        }
      ]
    },
    {
      "cell_type": "code",
      "metadata": {
        "id": "DzvpwHGLKm7Y"
      },
      "source": [
        "#Agregando la columna de 1s de características\n",
        "\n",
        "aqp_training_X=np.hstack((np.ones((aqpTrainingSize,1)),aqp_training_X))\n",
        "aqp_training_X1=np.hstack((np.ones((aqpTrainingSize,1)),aqp_training_X1))\n",
        "\n",
        "per_training_X=np.hstack((np.ones((perTrainingSize,1)),per_training_X))\n",
        "per_training_X1=np.hstack((np.ones((perTrainingSize,1)),per_training_X1))\n",
        "\n",
        "per_testing_X=np.hstack((np.ones((perTestingSize,1)),per_testing_X))\n",
        "aqp_testing_X=np.hstack((np.ones((aqpTestingSize,1)),aqp_testing_X))\n",
        "\n",
        "per_testing_X1=np.hstack((np.ones((perTestingSize,1)),per_testing_X1))\n",
        "aqp_testing_X1=np.hstack((np.ones((aqpTestingSize,1)),aqp_testing_X1))"
      ],
      "execution_count": 1025,
      "outputs": []
    },
    {
      "cell_type": "code",
      "metadata": {
        "id": "UC8n0PUY-Xzb"
      },
      "source": [
        "#Funcion costo\n",
        "def costo(X,y,theta):\n",
        "  predicciones=X.dot(theta)\n",
        "  errores=np.subtract(predicciones,y)\n",
        "  sqrError=np.square(errores)\n",
        "  J=1/(2*len(y))*errores.T.dot(errores)\n",
        "  return J\n",
        "\n",
        "#Gradiente descendiente para regresión linear\n",
        "\n",
        "def graddes(X,y,theta, lr,iteraciones):\n",
        "  historialcost=np.zeros(iteraciones)\n",
        "  for i in range(iteraciones):\n",
        "    y_pred=X[:,0]*theta[0]+np.power(X[:,1],2)*theta[1]\n",
        "    D_m=(-2/len(y))*np.sum(X.T*(y-y_pred))\n",
        "    D_c=(-2/len(y))*np.sum(X.T*y_pred)\n",
        "    theta[0]=theta[0]-lr*D_m\n",
        "    theta[1]=theta[1]-lr*D_c\n",
        "    historialcost[i]=costo(X,y,theta)\n",
        "  return theta, historialcost\n",
        "\n",
        "#Gradiente descendente para regresión multivariada\n",
        "def graddes1(X,y,theta, lr,iteraciones):\n",
        "  historialcost=np.zeros(iteraciones)\n",
        "  for i in range(iteraciones):\n",
        "    predicciones=X.dot(theta)\n",
        "    errores=predicciones-y\n",
        "    sum_delta= (lr/len(y))* X.T.dot(errores);\n",
        "    theta=theta-sum_delta;\n",
        "    historialcost[i]=costo(X,y,theta)\n",
        "  return theta, historialcost\n",
        "\n",
        "\n",
        "\n",
        "aqpctheta=np.zeros(len(aqp_training_Xdf.columns)+1)\n",
        "aqpdtheta=np.zeros(len(aqp_training_Xdf.columns)+1)\n",
        "aqpctheta1=np.zeros(len(aqp_training_Xdf1.columns)+1)\n",
        "aqpdtheta1=np.zeros(len(aqp_training_Xdf1.columns)+1)\n",
        "\n",
        "perctheta=np.zeros(len(per_training_Xdf.columns)+1)\n",
        "perdtheta=np.zeros(len(per_training_Xdf.columns)+1)\n",
        "perctheta1=np.zeros(len(per_training_Xdf1.columns)+1)\n",
        "perdtheta1=np.zeros(len(per_training_Xdf1.columns)+1)\n",
        "\n",
        "percepochs=6250\n",
        "percL=0.0001\n",
        "\n",
        "perdepochs=7000\n",
        "perdL=0.0001\n",
        "\n",
        "aqpcepochs=6250\n",
        "aqpcL=0.0001\n",
        "\n",
        "aqpdepochs=7188\n",
        "aqpdL=0.0001\n",
        "\n",
        "percepochs1=15000#175000\n",
        "percL1=0.001 \n",
        "\n",
        "perdepochs1=15000#120000\n",
        "perdL1=0.001\n",
        "\n",
        "aqpcepochs1=15000#200000\n",
        "aqpcL1=0.001\n",
        "\n",
        "aqpdepochs1=15000 #125000\n",
        "aqpdL1=0.001\n",
        "\n",
        "aqpctheta, aqpc_historialcost=graddes(aqp_training_X,aqpc_training_Y,aqpctheta,aqpcL,aqpcepochs)\n",
        "aqpdtheta, aqpd_historialcost=graddes(aqp_training_X,aqpd_training_Y,aqpdtheta,aqpdL,aqpdepochs)\n",
        "perctheta, perc_historialcost=graddes(per_training_X,perc_training_Y,perctheta,percL,percepochs)\n",
        "perdtheta, perd_historialcost=graddes(per_training_X,perd_training_Y,perdtheta,perdL,perdepochs)\n",
        "\n",
        "aqpctheta1, aqpc_historialcost1=graddes1(aqp_training_X1,aqpc_training_Y,aqpctheta1,aqpcL1,aqpcepochs1)\n",
        "aqpdtheta1, aqpd_historialcost1=graddes1(aqp_training_X1,aqpd_training_Y,aqpdtheta1,aqpdL1,aqpdepochs1)\n",
        "perctheta1, perc_historialcost1=graddes1(per_training_X1,perc_training_Y,perctheta1,percL1,percepochs1)\n",
        "perdtheta1, perd_historialcost1=graddes1(per_training_X1,perd_training_Y,perdtheta1,perdL1,perdepochs1)\n",
        "\n"
      ],
      "execution_count": 1026,
      "outputs": []
    },
    {
      "cell_type": "code",
      "metadata": {
        "colab": {
          "base_uri": "https://localhost:8080/"
        },
        "id": "AnnHxdzhAnyi",
        "outputId": "1490c2de-6740-4aeb-ac1a-09f2deb2fd7e"
      },
      "source": [
        "print('aqpctheta= ', aqpctheta)\n",
        "print('aqpccost= ',aqpc_historialcost[-5:])\n",
        "print('aqpdtheta= ', aqpdtheta)\n",
        "print('aqpdcost= ',aqpd_historialcost[-5:])\n",
        "print('perctheta= ', perctheta)\n",
        "print('perccost= ',perc_historialcost[-5:])\n",
        "print('perdtheta= ', perdtheta)\n",
        "print('perdcost= ',perd_historialcost[-5:])"
      ],
      "execution_count": 1027,
      "outputs": [
        {
          "output_type": "stream",
          "name": "stdout",
          "text": [
            "aqpctheta=  [47231.64098802 33645.56619854]\n",
            "aqpccost=  [33905291.97042842 33877149.49623187 33849087.79863866 33821106.8993346\n",
            " 33793206.82001197]\n",
            "aqpdtheta=  [2886.34456991 2521.38623439]\n",
            "aqpdcost=  [1369415.45663383 1369428.36717799 1369441.58351936 1369455.10575222\n",
            " 1369468.93397089]\n",
            "perctheta=  [1011439.50489244  725049.43136569]\n",
            "perccost=  [1.09847142e+10 1.09741158e+10 1.09635556e+10 1.09530336e+10\n",
            " 1.09425498e+10]\n",
            "perdtheta=  [63641.34914487 53807.17405935]\n",
            "perdcost=  [5.86082806e+08 5.86077360e+08 5.86072062e+08 5.86066913e+08\n",
            " 5.86061913e+08]\n"
          ]
        }
      ]
    },
    {
      "cell_type": "code",
      "metadata": {
        "colab": {
          "base_uri": "https://localhost:8080/"
        },
        "id": "7K7FT6R4UjBv",
        "outputId": "cce5ca31-9f05-4adb-db80-cd7868a01099"
      },
      "source": [
        "print('aqpctheta1= ', aqpctheta1)\n",
        "print('aqpccost1= ',aqpc_historialcost1[-5:])\n",
        "print('aqpdtheta1= ', aqpdtheta1)\n",
        "print('aqpdcost1= ',aqpd_historialcost1[-5:])\n",
        "print('perctheta1= ', perctheta1)\n",
        "print('perccost1= ',perc_historialcost1[-5:])\n",
        "print('perdtheta1= ', perdtheta1)\n",
        "print('perdcost1= ',perd_historialcost1[-5:])"
      ],
      "execution_count": 1028,
      "outputs": [
        {
          "output_type": "stream",
          "name": "stdout",
          "text": [
            "aqpctheta1=  [53347.88050039  9770.69511592  3198.55597709  -719.59460343\n",
            "  1758.59610076 -1546.26298863  3198.55597709  2583.66221131\n",
            "  4555.50494502 10278.33478566  6921.19730455]\n",
            "aqpccost1=  [8539451.08170561 8539305.42796605 8539159.79172071 8539014.17296221\n",
            " 8538868.57168319]\n",
            "aqpdtheta1=  [3186.01149734  -49.73005333  411.28280663  -33.75748707  115.72744174\n",
            "  -83.7835737   411.28280663  359.26363133  264.24589516  -27.79444521\n",
            " 2177.10435888]\n",
            "aqpdcost1=  [288953.58446964 288948.85151455 288944.11878108 288939.38626921\n",
            " 288934.65397891]\n",
            "perctheta1=  [1121701.24802619  212729.70699643  111625.16196737  -18018.24234132\n",
            "   12015.67656198  -44518.95527159  111625.16196737  101720.822948\n",
            "  144735.11639037  111694.88151753    7001.55004777]\n",
            "perccost1=  [2.84766894e+09 2.84762969e+09 2.84759045e+09 2.84755122e+09\n",
            " 2.84751199e+09]\n",
            "perdtheta1=  [ 70951.37909045   4069.12606357  23788.22689003   2870.44083179\n",
            "   5068.02903324    923.57060074  23788.22689003  26349.14189901\n",
            "   -783.97172993 -17739.70012577   4486.16826348]\n",
            "perdcost1=  [2.74310507e+08 2.74308056e+08 2.74305605e+08 2.74303155e+08\n",
            " 2.74300704e+08]\n"
          ]
        }
      ]
    },
    {
      "cell_type": "code",
      "metadata": {
        "colab": {
          "base_uri": "https://localhost:8080/",
          "height": 421
        },
        "id": "LpDBqhcrBgVo",
        "outputId": "d8ee09c1-f984-4269-b5dc-c1727d5673af"
      },
      "source": [
        "#Graficando convergencia del gradiente descendiente en Casos Confirmados en Perú\n",
        "\n",
        "plt.plot(range(1, percepochs+1), perc_historialcost, color='red')\n",
        "plt.plot(range(1, percepochs1+1), perc_historialcost1, color='orange')\n",
        "plt.rcParams[\"figure.figsize\"]=(10,6)\n",
        "plt.grid()\n",
        "plt.xlabel(\"Número de iteración\")\n",
        "plt.ylabel(\"Costo(J)\")\n",
        "plt.title(\"Convergencia del gradiente descendiente en Casos Confirmados en Perú\")"
      ],
      "execution_count": 1029,
      "outputs": [
        {
          "output_type": "execute_result",
          "data": {
            "text/plain": [
              "Text(0.5, 1.0, 'Convergencia del gradiente descendiente en Casos Confirmados en Perú')"
            ]
          },
          "metadata": {},
          "execution_count": 1029
        },
        {
          "output_type": "display_data",
          "data": {
            "image/png": "[encoded data removed]",
            "text/plain": [
              "<Figure size 720x432 with 1 Axes>"
            ]
          },
          "metadata": {
            "needs_background": "light"
          }
        }
      ]
    },
    {
      "cell_type": "code",
      "metadata": {
        "colab": {
          "base_uri": "https://localhost:8080/",
          "height": 421
        },
        "id": "qx09xpUaEQu3",
        "outputId": "96a799ef-2b54-4dab-e092-d22b1d2b1367"
      },
      "source": [
        "#Graficando convergencia del gradiente descendiente en Muertes en Perú\n",
        "\n",
        "plt.plot(range(1, perdepochs+1), perd_historialcost, color='grey')\n",
        "plt.plot(range(1, perdepochs1+1), perd_historialcost1, color='black')\n",
        "plt.rcParams[\"figure.figsize\"]=(10,6)\n",
        "plt.grid()\n",
        "plt.xlabel(\"Número de iteración\")\n",
        "plt.ylabel(\"Costo(J)\")\n",
        "plt.title(\"Convergencia del gradiente descendiente en Muertes en Perú\")"
      ],
      "execution_count": 1030,
      "outputs": [
        {
          "output_type": "execute_result",
          "data": {
            "text/plain": [
              "Text(0.5, 1.0, 'Convergencia del gradiente descendiente en Muertes en Perú')"
            ]
          },
          "metadata": {},
          "execution_count": 1030
        },
        {
          "output_type": "display_data",
          "data": {
            "image/png": "[encoded data removed]",
            "text/plain": [
              "<Figure size 720x432 with 1 Axes>"
            ]
          },
          "metadata": {
            "needs_background": "light"
          }
        }
      ]
    },
    {
      "cell_type": "code",
      "metadata": {
        "colab": {
          "base_uri": "https://localhost:8080/",
          "height": 421
        },
        "id": "Gw89ZfPJEbp-",
        "outputId": "edbd82fd-ab99-41d6-ed96-4f8aab93f126"
      },
      "source": [
        "#Graficando convergencia del gradiente descendiente en Casos Confirmados en Arequipa\n",
        "plt.plot(range(1, aqpcepochs+1), aqpc_historialcost, color='purple')\n",
        "plt.plot(range(1, aqpcepochs1+1), aqpc_historialcost1, color='blue')\n",
        "plt.rcParams[\"figure.figsize\"]=(10,6)\n",
        "plt.grid()\n",
        "plt.xlabel(\"Número de iteración\")\n",
        "plt.ylabel(\"Costo(J)\")\n",
        "plt.title(\"Convergencia del gradiente descendiente en Casos Confirmados en Arequipa\")"
      ],
      "execution_count": 1031,
      "outputs": [
        {
          "output_type": "execute_result",
          "data": {
            "text/plain": [
              "Text(0.5, 1.0, 'Convergencia del gradiente descendiente en Casos Confirmados en Arequipa')"
            ]
          },
          "metadata": {},
          "execution_count": 1031
        },
        {
          "output_type": "display_data",
          "data": {
            "image/png": "[encoded data removed]",
            "text/plain": [
              "<Figure size 720x432 with 1 Axes>"
            ]
          },
          "metadata": {
            "needs_background": "light"
          }
        }
      ]
    },
    {
      "cell_type": "code",
      "metadata": {
        "colab": {
          "base_uri": "https://localhost:8080/",
          "height": 421
        },
        "id": "UMOfr-yCEeu3",
        "outputId": "3bad2ea6-2a84-4dff-9b07-b2482e0f80cd"
      },
      "source": [
        "#Graficando convergencia del gradiente descendiente en Muertes en Arequipa\n",
        "plt.plot(range(1, aqpdepochs+1), aqpd_historialcost, color='blue')\n",
        "plt.plot(range(1, aqpdepochs1+1), aqpd_historialcost1, color='skyblue')\n",
        "plt.rcParams[\"figure.figsize\"]=(10,6)\n",
        "plt.grid()\n",
        "plt.xlabel(\"Número de iteración\")\n",
        "plt.ylabel(\"Costo(J)\")\n",
        "plt.title(\"Convergencia del gradiente descendiente en Muertes en Arequipa\")"
      ],
      "execution_count": 1032,
      "outputs": [
        {
          "output_type": "execute_result",
          "data": {
            "text/plain": [
              "Text(0.5, 1.0, 'Convergencia del gradiente descendiente en Muertes en Arequipa')"
            ]
          },
          "metadata": {},
          "execution_count": 1032
        },
        {
          "output_type": "display_data",
          "data": {
            "image/png": "[encoded data removed]",
            "text/plain": [
              "<Figure size 720x432 with 1 Axes>"
            ]
          },
          "metadata": {
            "needs_background": "light"
          }
        }
      ]
    },
    {
      "cell_type": "code",
      "metadata": {
        "id": "Q6cF9qOdUdi_"
      },
      "source": [
        "#Se toma solamente en cuenta el primer valor añadido y la fecha\n",
        "def funcion_pred(X, theta, lineal=True):\n",
        "  if(lineal==True):\n",
        "    return theta[0] * X[:,0] + theta[1] * np.power(X[:,1], 2)\n",
        "  else:\n",
        "    return np.dot(theta,X.T)\n"
      ],
      "execution_count": 1033,
      "outputs": []
    },
    {
      "cell_type": "code",
      "metadata": {
        "colab": {
          "base_uri": "https://localhost:8080/",
          "height": 385
        },
        "id": "75NFGIBB4NLg",
        "outputId": "49c6da02-5c36-4b00-8965-29162607e730"
      },
      "source": [
        "#Prediccion de casos confirmados en Peru\n",
        "perc_pred_y=funcion_pred(per_testing_X,perctheta,True)\n",
        "plt.plot(per_training_X[:,1], perc_training_Y, color = \"blue\", label = \"Entrenamiento\")\n",
        "plt.plot(per_testing_X[:,1], perc_pred_y, color = \"red\", label = \"Predicción\")\n",
        "plt.plot(aqp_testing_X[:,1], perc_testing_Y, color = \"black\", label = \"Correcto\")\n",
        "\n",
        "\n",
        "perc_pred_y1=funcion_pred(per_testing_X1,perctheta1,False)\n",
        "plt.plot(per_testing_X[:,1], perc_pred_y1, color = \"green\", label = \"Predicción con Pruebas\")\n",
        "\n",
        "plt.legend(loc = \"upper left\")\n",
        "plt.show()"
      ],
      "execution_count": 1034,
      "outputs": [
        {
          "output_type": "display_data",
          "data": {
            "image/png": "[encoded data removed]",
            "text/plain": [
              "<Figure size 720x432 with 1 Axes>"
            ]
          },
          "metadata": {
            "needs_background": "light"
          }
        }
      ]
    },
    {
      "cell_type": "code",
      "metadata": {
        "colab": {
          "base_uri": "https://localhost:8080/",
          "height": 374
        },
        "id": "mxKhw7tJ4NXN",
        "outputId": "877434ae-db02-4797-bcf6-8d837a765be6"
      },
      "source": [
        "#Prediccion de muertes en Peru\n",
        "perd_pred_y=funcion_pred(per_testing_X,perdtheta,True)\n",
        "plt.plot(per_training_X[:,1], perd_training_Y, color = \"blue\", label = \"Entrenamiento\")\n",
        "plt.plot(per_testing_X[:,1], perd_pred_y, color = \"red\", label = \"Predicción\")\n",
        "plt.plot(aqp_testing_X[:,1], perd_testing_Y, color = \"black\", label = \"Correcto\")\n",
        "\n",
        "\n",
        "perd_pred_y1=funcion_pred(per_testing_X1,perdtheta1,False)\n",
        "plt.plot(per_testing_X[:,1], perd_pred_y1, color = \"green\", label = \"Predicción con Pruebas\")\n",
        "plt.legend(loc = \"upper left\")\n",
        "plt.show()"
      ],
      "execution_count": 1035,
      "outputs": [
        {
          "output_type": "display_data",
          "data": {
            "image/png": "[encoded data removed]",
            "text/plain": [
              "<Figure size 720x432 with 1 Axes>"
            ]
          },
          "metadata": {
            "needs_background": "light"
          }
        }
      ]
    },
    {
      "cell_type": "code",
      "metadata": {
        "colab": {
          "base_uri": "https://localhost:8080/",
          "height": 374
        },
        "id": "Zxbjv7Nk3nbw",
        "outputId": "257dd313-5a58-4ce7-972e-34381c0d44bc"
      },
      "source": [
        "#Prediccion de casos confirmados en Arequipa\n",
        "aqpc_pred_y=funcion_pred(aqp_testing_X,aqpctheta,True)\n",
        "\n",
        "plt.plot(aqp_training_X[:,1], aqpc_training_Y, color = \"blue\", label = \"Entrenamiento\")\n",
        "plt.plot(aqp_testing_X[:,1], aqpc_pred_y, color = \"red\", label = \"Prediccion\")\n",
        "plt.plot(aqp_testing_X[:,1], aqpc_testing_Y, color = \"black\", label = \"Correcto\")\n",
        "\n",
        "\n",
        "aqpc_pred_y1=funcion_pred(aqp_testing_X1,aqpctheta1,False)\n",
        "plt.plot(aqp_testing_X[:,1], aqpc_pred_y1, color = \"green\", label = \"Prediccion con Pruebas\")\n",
        "\n",
        "plt.legend(loc = \"upper left\")\n",
        "plt.show()"
      ],
      "execution_count": 1036,
      "outputs": [
        {
          "output_type": "display_data",
          "data": {
            "image/png": "[encoded data removed]",
            "text/plain": [
              "<Figure size 720x432 with 1 Axes>"
            ]
          },
          "metadata": {
            "needs_background": "light"
          }
        }
      ]
    },
    {
      "cell_type": "code",
      "metadata": {
        "colab": {
          "base_uri": "https://localhost:8080/",
          "height": 374
        },
        "id": "zXAfrtVg33OW",
        "outputId": "d4956d28-8088-41ea-d8b2-2df84f365705"
      },
      "source": [
        "#Prediccion de muertes en Arequipa\n",
        "aqpd_pred_y=funcion_pred(aqp_testing_X,aqpdtheta,True)\n",
        "\n",
        "plt.plot(aqp_training_X[:,1], aqpd_training_Y, color = \"blue\", label = \"Entrenamiento\")\n",
        "plt.plot(aqp_testing_X[:,1], aqpd_testing_Y, color = \"black\", label = \"Correcto\")\n",
        "\n",
        "plt.plot(aqp_testing_X[:,1], aqpd_pred_y, color = \"red\", label = \"Predicción\")\n",
        "\n",
        "aqpd_pred_y1=funcion_pred(aqp_testing_X1,aqpdtheta1,False)\n",
        "plt.plot(aqp_testing_X[:,1], aqpd_pred_y1, color = \"green\", label = \"Predicción con Pruebas\")\n",
        "\n",
        "\n",
        "plt.legend(loc = \"upper left\")\n",
        "plt.show()"
      ],
      "execution_count": 1037,
      "outputs": [
        {
          "output_type": "display_data",
          "data": {
            "image/png": "[encoded data removed]",
            "text/plain": [
              "<Figure size 720x432 with 1 Axes>"
            ]
          },
          "metadata": {
            "needs_background": "light"
          }
        }
      ]
    }
  ]
}